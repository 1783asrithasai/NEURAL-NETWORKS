{
  "nbformat": 4,
  "nbformat_minor": 0,
  "metadata": {
    "colab": {
      "provenance": []
    },
    "kernelspec": {
      "name": "python3",
      "display_name": "Python 3"
    },
    "language_info": {
      "name": "python"
    }
  },
  "cells": [
    {
      "cell_type": "code",
      "execution_count": 1,
      "metadata": {
        "id": "9Qy_MnU2tQ6z"
      },
      "outputs": [],
      "source": [
        "import numpy as np\n",
        "import matplotlib.pyplot as plt\n",
        "import sys\n"
      ]
    },
    {
      "cell_type": "code",
      "source": [
        "X = np.array([\n",
        "[0, 0],\n",
        "[0, 1],\n",
        "[1, 0],\n",
        "[1, 1]\n",
        "])\n",
        "y = np.array([\n",
        "[0],\n",
        "[1],\n",
        "[1],\n",
        "[0]\n",
        "])"
      ],
      "metadata": {
        "id": "j9ioQ9TbvbmL"
      },
      "execution_count": 3,
      "outputs": []
    },
    {
      "cell_type": "code",
      "source": [
        "x=X[0]\n",
        "print(x)"
      ],
      "metadata": {
        "colab": {
          "base_uri": "https://localhost:8080/"
        },
        "id": "YCbz8ZLYwvoJ",
        "outputId": "ea87937f-adfe-4bdf-cd14-50700b9ab40f"
      },
      "execution_count": 16,
      "outputs": [
        {
          "output_type": "stream",
          "name": "stdout",
          "text": [
            "[1 1]\n"
          ]
        }
      ]
    },
    {
      "cell_type": "code",
      "source": [
        "W11 = np.asarray([1,1])\n",
        "W12 = np.asarray([1,1])\n",
        "W2 = np.asarray([-1,1])\n",
        "B1 = np.asarray([-1.5,-0.5])\n",
        "B2 = np.asarray([-0.5])"
      ],
      "metadata": {
        "id": "JcHIgDmivlwL"
      },
      "execution_count": 4,
      "outputs": []
    },
    {
      "cell_type": "code",
      "source": [
        "def summation(x,Wt1,Wt2,Bs):\n",
        "  sumh=[0,0]\n",
        "  for i in range(len(x)):\n",
        "   sumh[i]=(x[0]*Wt1[i]+x[1]*Wt2[i])+Bs[i]\n",
        "  return sumh\n"
      ],
      "metadata": {
        "id": "x72pgYLZvp6p"
      },
      "execution_count": 5,
      "outputs": []
    },
    {
      "cell_type": "code",
      "source": [
        " sumv=summation(x,W11,W12,B1)\n"
      ],
      "metadata": {
        "id": "Fo29upzBwo2S"
      },
      "execution_count": 17,
      "outputs": []
    },
    {
      "cell_type": "code",
      "source": [
        "def Heaviside (net):\n",
        "  if net >= 0:\n",
        "   return 1\n",
        "  else:\n",
        "   return 0"
      ],
      "metadata": {
        "id": "vCdKYT2zvylZ"
      },
      "execution_count": 6,
      "outputs": []
    },
    {
      "cell_type": "code",
      "source": [
        "hidden=[0,0]\n",
        "for i in range(len(sumv)):\n",
        "  hidden[i]=Heaviside(sumv[i])"
      ],
      "metadata": {
        "id": "7RmeBaq6v1-x"
      },
      "execution_count": 12,
      "outputs": []
    },
    {
      "cell_type": "code",
      "source": [
        "y_pred=[]\n",
        "for i in range(X.shape[0]):\n",
        "  x=X[i]\n",
        "  sumv=summation(x,W11,W12,B1)\n",
        "  hidden=[0,0]\n",
        "  for j in range(len(sumv)): # Hidden layer\n",
        "    hidden[j]=Heaviside(sumv[j])\n",
        "\n",
        "  sumo=np.dot(hidden,W2)+B2[0]  # output layer\n",
        "  y_pred.append(Heaviside(sumo))\n",
        "print(y_pred)"
      ],
      "metadata": {
        "colab": {
          "base_uri": "https://localhost:8080/"
        },
        "id": "Ipz5YJcgv7EB",
        "outputId": "91d130e3-a901-4b88-c1e1-f365a797b9b0"
      },
      "execution_count": 21,
      "outputs": [
        {
          "output_type": "stream",
          "name": "stdout",
          "text": [
            "[0, 1, 1, 0]\n"
          ]
        }
      ]
    },
    {
      "cell_type": "code",
      "source": [
        "y_pred\n"
      ],
      "metadata": {
        "colab": {
          "base_uri": "https://localhost:8080/"
        },
        "id": "bgSUk3KHv9jS",
        "outputId": "354d02a0-f0da-4561-c6a6-f1875d5c6f9d"
      },
      "execution_count": 19,
      "outputs": [
        {
          "output_type": "execute_result",
          "data": {
            "text/plain": [
              "[0]"
            ]
          },
          "metadata": {},
          "execution_count": 19
        }
      ]
    }
  ]
}